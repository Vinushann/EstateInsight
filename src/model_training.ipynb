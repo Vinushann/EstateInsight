{
 "cells": [
  {
   "cell_type": "code",
   "execution_count": 1,
   "metadata": {},
   "outputs": [],
   "source": [
    "import pandas as pd\n",
    "\n",
    "df = pd.read_csv('../data/preprocessed/preprocessed_data.csv')\n",
    "X = df.drop(['price'],axis='columns')\n",
    "y = df.price\n"
   ]
  },
  {
   "cell_type": "code",
   "execution_count": 2,
   "metadata": {},
   "outputs": [],
   "source": [
    "from sklearn.model_selection import train_test_split\n",
    "X_train, X_test, y_train, y_test = train_test_split(X,y,test_size=0.2,random_state=10)"
   ]
  },
  {
   "cell_type": "code",
   "execution_count": 3,
   "metadata": {},
   "outputs": [
    {
     "data": {
      "text/plain": [
       "0.8629132245229436"
      ]
     },
     "execution_count": 3,
     "metadata": {},
     "output_type": "execute_result"
    }
   ],
   "source": [
    "\n",
    "from sklearn.linear_model import LinearRegression\n",
    "\n",
    "# train the model using an Linear Regression\n",
    "lr_clf = LinearRegression()\n",
    "lr_clf.fit(X_train,y_train)\n",
    "# score method will tell you the score\n",
    "lr_clf.score(X_test,y_test)\n"
   ]
  },
  {
   "cell_type": "markdown",
   "metadata": {},
   "source": [
    "<h2 style='color:white'>Use K Fold cross validation to measure accuracy of our LinearRegression model</h2>"
   ]
  },
  {
   "cell_type": "code",
   "execution_count": 5,
   "metadata": {},
   "outputs": [
    {
     "data": {
      "text/plain": [
       "array([0.82702546, 0.86027005, 0.85322178, 0.8436466 , 0.85481502])"
      ]
     },
     "execution_count": 5,
     "metadata": {},
     "output_type": "execute_result"
    }
   ],
   "source": [
    "# K fold cross validation\n",
    "from sklearn.model_selection import ShuffleSplit\n",
    "from sklearn.model_selection import cross_val_score\n",
    "\n",
    "# shuffle split and each fold has random rows or records\n",
    "cv = ShuffleSplit(n_splits=5, test_size=0.2, random_state=0)\n",
    "\n",
    "cross_val_score(LinearRegression(), X, y, cv=cv)"
   ]
  },
  {
   "cell_type": "markdown",
   "metadata": {},
   "source": [
    "<h2 style='color:white'>Find best model using GridSearchCV</h2>\n",
    "<p> Using the gridsearch it will tell you which best model and it will do the hyper parameter tunning as well </p>"
   ]
  },
  {
   "cell_type": "code",
   "execution_count": 6,
   "metadata": {},
   "outputs": [
    {
     "data": {
      "text/html": [
       "<div>\n",
       "<style scoped>\n",
       "    .dataframe tbody tr th:only-of-type {\n",
       "        vertical-align: middle;\n",
       "    }\n",
       "\n",
       "    .dataframe tbody tr th {\n",
       "        vertical-align: top;\n",
       "    }\n",
       "\n",
       "    .dataframe thead th {\n",
       "        text-align: right;\n",
       "    }\n",
       "</style>\n",
       "<table border=\"1\" class=\"dataframe\">\n",
       "  <thead>\n",
       "    <tr style=\"text-align: right;\">\n",
       "      <th></th>\n",
       "      <th>model</th>\n",
       "      <th>best_score</th>\n",
       "      <th>best_params</th>\n",
       "    </tr>\n",
       "  </thead>\n",
       "  <tbody>\n",
       "    <tr>\n",
       "      <th>0</th>\n",
       "      <td>linear_regression</td>\n",
       "      <td>0.847951</td>\n",
       "      <td>{'fit_intercept': False}</td>\n",
       "    </tr>\n",
       "    <tr>\n",
       "      <th>1</th>\n",
       "      <td>lasso</td>\n",
       "      <td>0.726738</td>\n",
       "      <td>{'alpha': 2, 'selection': 'cyclic'}</td>\n",
       "    </tr>\n",
       "    <tr>\n",
       "      <th>2</th>\n",
       "      <td>ridge</td>\n",
       "      <td>0.848050</td>\n",
       "      <td>{'alpha': 0.1, 'fit_intercept': False}</td>\n",
       "    </tr>\n",
       "    <tr>\n",
       "      <th>3</th>\n",
       "      <td>elasticnet</td>\n",
       "      <td>0.756214</td>\n",
       "      <td>{'alpha': 0.1, 'l1_ratio': 0.9}</td>\n",
       "    </tr>\n",
       "    <tr>\n",
       "      <th>4</th>\n",
       "      <td>decision_tree</td>\n",
       "      <td>0.715573</td>\n",
       "      <td>{'criterion': 'friedman_mse', 'splitter': 'best'}</td>\n",
       "    </tr>\n",
       "  </tbody>\n",
       "</table>\n",
       "</div>"
      ],
      "text/plain": [
       "               model  best_score  \\\n",
       "0  linear_regression    0.847951   \n",
       "1              lasso    0.726738   \n",
       "2              ridge    0.848050   \n",
       "3         elasticnet    0.756214   \n",
       "4      decision_tree    0.715573   \n",
       "\n",
       "                                         best_params  \n",
       "0                           {'fit_intercept': False}  \n",
       "1                {'alpha': 2, 'selection': 'cyclic'}  \n",
       "2             {'alpha': 0.1, 'fit_intercept': False}  \n",
       "3                    {'alpha': 0.1, 'l1_ratio': 0.9}  \n",
       "4  {'criterion': 'friedman_mse', 'splitter': 'best'}  "
      ]
     },
     "execution_count": 6,
     "metadata": {},
     "output_type": "execute_result"
    }
   ],
   "source": [
    "from sklearn.model_selection import GridSearchCV, ShuffleSplit\n",
    "from sklearn.linear_model import Lasso, Ridge, ElasticNet, LinearRegression\n",
    "from sklearn.tree import DecisionTreeRegressor\n",
    "from sklearn.ensemble import RandomForestRegressor, GradientBoostingRegressor\n",
    "from sklearn.svm import SVR\n",
    "from sklearn.neighbors import KNeighborsRegressor\n",
    "import pandas as pd\n",
    "\n",
    "def find_best_model_using_gridsearchcv(X, y):\n",
    "    algos = {\n",
    "        'linear_regression': {\n",
    "            'model': LinearRegression(),\n",
    "            'params': {\n",
    "                'fit_intercept': [True, False]\n",
    "            }\n",
    "        },\n",
    "        'lasso': {\n",
    "            'model': Lasso(),\n",
    "            'params': {\n",
    "                'alpha': [1, 2],\n",
    "                'selection': ['random', 'cyclic']\n",
    "            }\n",
    "        },\n",
    "        'ridge': {\n",
    "            'model': Ridge(),\n",
    "            'params': {\n",
    "                'alpha': [0.1, 1, 10],\n",
    "                'fit_intercept': [True, False]\n",
    "            }\n",
    "        },\n",
    "        'elasticnet': {\n",
    "            'model': ElasticNet(),\n",
    "            'params': {\n",
    "                'alpha': [0.1, 1, 10],\n",
    "                'l1_ratio': [0.1, 0.5, 0.9]\n",
    "            }\n",
    "        },\n",
    "        'decision_tree': {\n",
    "            'model': DecisionTreeRegressor(),\n",
    "            'params': {\n",
    "                'criterion': ['squared_error', 'friedman_mse'],\n",
    "                'splitter': ['best', 'random']\n",
    "            }\n",
    "        },\n",
    "        'random_forest': {\n",
    "            'model': RandomForestRegressor(),\n",
    "            'params': {\n",
    "                'n_estimators': [10, 50, 100],\n",
    "                'max_depth': [None, 10, 20],\n",
    "                'min_samples_split': [2, 5, 10]\n",
    "            }\n",
    "        },\n",
    "        'gradient_boosting': {\n",
    "            'model': GradientBoostingRegressor(),\n",
    "            'params': {\n",
    "                'n_estimators': [50, 100, 200],\n",
    "                'learning_rate': [0.01, 0.1, 0.2],\n",
    "                'max_depth': [3, 5, 7]\n",
    "            }\n",
    "        },\n",
    "    }\n",
    "\n",
    "    scores = []\n",
    "    \n",
    "    cv = ShuffleSplit(n_splits=5, test_size=0.2, random_state=0)\n",
    "\n",
    "    # this is a dictonarie and which is inside that previous function\n",
    "    for algo_name, config in algos.items():\n",
    "        #  this cv para is Cross Validation\n",
    "        gs = GridSearchCV(config['model'], config['params'], cv=cv, return_train_score=False)\n",
    "        gs.fit(X, y)\n",
    "        # it will tell you the best params in particular run\n",
    "        scores.append({\n",
    "            'model': algo_name,\n",
    "            'best_score': gs.best_score_,\n",
    "            'best_params': gs.best_params_\n",
    "        })\n",
    "\n",
    "    # pd.DataFrame will print it as tabular format\n",
    "    return pd.DataFrame(scores, columns=['model', 'best_score', 'best_params'])\n",
    "\n",
    "find_best_model_using_gridsearchcv(X,y)"
   ]
  },
  {
   "cell_type": "code",
   "execution_count": null,
   "metadata": {},
   "outputs": [],
   "source": [
    "from sklearn.model_selection import GridSearchCV, train_test_split, ShuffleSplit\n",
    "from sklearn.metrics import mean_squared_error, r2_score, mean_absolute_error\n",
    "from sklearn.linear_model import Lasso, Ridge, ElasticNet, LinearRegression\n",
    "from sklearn.tree import DecisionTreeRegressor\n",
    "from sklearn.ensemble import RandomForestRegressor, GradientBoostingRegressor\n",
    "import pandas as pd\n",
    "import numpy as np\n",
    "import matplotlib.pyplot as plt\n",
    "import joblib\n",
    "\n",
    "\n",
    "# Define models and expanded hyperparameters for GridSearchCV\n",
    "algos = {\n",
    "    'linear_regression': {\n",
    "        'model': LinearRegression(),\n",
    "        'params': {\n",
    "            'fit_intercept': [True, False]\n",
    "        }\n",
    "    },\n",
    "    'lasso': {\n",
    "        'model': Lasso(),\n",
    "        'params': {\n",
    "            'alpha': [0.1, 1, 10, 100],\n",
    "            'selection': ['random', 'cyclic'],\n",
    "            'max_iter': [1000, 5000]\n",
    "        }\n",
    "    },\n",
    "    'ridge': {\n",
    "        'model': Ridge(),\n",
    "        'params': {\n",
    "            'alpha': [0.1, 1, 10, 100],\n",
    "            'fit_intercept': [True, False],\n",
    "            'solver': ['auto', 'svd', 'cholesky', 'lsqr', 'sparse_cg'],\n",
    "            'max_iter': [1000, 5000]\n",
    "        }\n",
    "    },\n",
    "    'elasticnet': {\n",
    "        'model': ElasticNet(),\n",
    "        'params': {\n",
    "            'alpha': [0.1, 1, 10],\n",
    "            'l1_ratio': [0.1, 0.5, 0.9],\n",
    "            'max_iter': [1000, 5000]\n",
    "        }\n",
    "    },\n",
    "    'decision_tree': {\n",
    "        'model': DecisionTreeRegressor(),\n",
    "        'params': {\n",
    "            'criterion': ['squared_error', 'friedman_mse', 'absolute_error'],\n",
    "            'splitter': ['best', 'random'],\n",
    "            'max_depth': [None, 10, 20],\n",
    "            'min_samples_split': [2, 5, 10]\n",
    "        }\n",
    "    },\n",
    "    'random_forest': {\n",
    "        'model': RandomForestRegressor(),\n",
    "        'params': {\n",
    "            'n_estimators': [50, 100, 200],\n",
    "            'max_depth': [None, 10, 20],\n",
    "            'min_samples_split': [2, 5, 10]\n",
    "        }\n",
    "    },\n",
    "    'gradient_boosting': {\n",
    "        'model': GradientBoostingRegressor(),\n",
    "        'params': {\n",
    "            'n_estimators': [100, 200, 300],\n",
    "            'learning_rate': [0.01, 0.1, 0.2],\n",
    "            'max_depth': [3, 5, 7],\n",
    "            'min_samples_split': [2, 5, 10]\n",
    "        }\n",
    "    }\n",
    "}\n"
   ]
  },
  {
   "cell_type": "code",
   "execution_count": null,
   "metadata": {},
   "outputs": [
    {
     "name": "stdout",
     "output_type": "stream",
     "text": [
      "linear_regression has completed\n",
      "lasso has completed\n",
      "ridge has completed\n",
      "elasticnet has completed\n",
      "decision_tree has completed\n",
      "random_forest has completed\n",
      "gradient_boosting has completed\n"
     ]
    }
   ],
   "source": [
    "# Train and evaluate each model using GridSearchCV\n",
    "cv = ShuffleSplit(n_splits=5, test_size=0.2, random_state=42)\n",
    "scores = []\n",
    "best_model = None\n",
    "best_score = -np.inf\n",
    "\n",
    "for algo_name, config in algos.items():\n",
    "    gs = GridSearchCV(config['model'], config['params'], cv=cv, n_jobs=-1, return_train_score=False)\n",
    "    gs.fit(X_train, y_train)\n",
    "    \n",
    "    y_pred = gs.best_estimator_.predict(X_test)\n",
    "    mse = mean_squared_error(y_test, y_pred)\n",
    "    rmse = np.sqrt(mse)\n",
    "    mae = mean_absolute_error(y_test, y_pred)\n",
    "    r2 = r2_score(y_test, y_pred)\n",
    "    \n",
    "    print(algo_name, 'has completed')\n",
    "    scores.append({\n",
    "        'model': algo_name,\n",
    "        'test_mse': mse,\n",
    "        'test_rmse': rmse,\n",
    "        'test_mae': mae,\n",
    "        'test_r2': r2,\n",
    "        'best_params': gs.best_params_\n",
    "    })\n",
    "    \n",
    "    # Keep track of the best model based on R² score\n",
    "    if r2 > best_score:\n",
    "        best_score = r2\n",
    "        best_model = gs.best_estimator_\n"
   ]
  },
  {
   "cell_type": "code",
   "execution_count": null,
   "metadata": {},
   "outputs": [
    {
     "name": "stdout",
     "output_type": "stream",
     "text": [
      "               model     test_mse  test_rmse   test_mae   test_r2  \\\n",
      "0  linear_regression   710.805979  26.660945  16.156268  0.862962   \n",
      "2              ridge   729.181669  27.003364  16.056748  0.859419   \n",
      "6  gradient_boosting   779.242913  27.914923  14.749068  0.849767   \n",
      "5      random_forest  1035.237451  32.175106  17.686366  0.800413   \n",
      "1              lasso  1127.789776  33.582581  20.051244  0.782570   \n",
      "4      decision_tree  1153.842221  33.968253  18.540583  0.777547   \n",
      "3         elasticnet  1289.652033  35.911726  21.523280  0.751364   \n",
      "\n",
      "                                         best_params  \n",
      "0                           {'fit_intercept': False}  \n",
      "2  {'alpha': 1, 'fit_intercept': False, 'max_iter...  \n",
      "6  {'learning_rate': 0.2, 'max_depth': 5, 'min_sa...  \n",
      "5  {'max_depth': 20, 'min_samples_split': 10, 'n_...  \n",
      "1  {'alpha': 0.1, 'max_iter': 1000, 'selection': ...  \n",
      "4  {'criterion': 'friedman_mse', 'max_depth': 20,...  \n",
      "3  {'alpha': 0.1, 'l1_ratio': 0.9, 'max_iter': 1000}  \n"
     ]
    }
   ],
   "source": [
    "# Convert the results to a DataFrame and display them\n",
    "results_df = pd.DataFrame(scores, columns=['model', 'test_mse', 'test_rmse', 'test_mae', 'test_r2', 'best_params'])\n",
    "results_df.sort_values(by='test_r2', ascending=False, inplace=True)\n",
    "print(results_df)"
   ]
  },
  {
   "cell_type": "code",
   "execution_count": null,
   "metadata": {},
   "outputs": [
    {
     "data": {
      "image/png": "[encoded data removed]",
      "text/plain": [
       "<Figure size 1500x1200 with 4 Axes>"
      ]
     },
     "metadata": {},
     "output_type": "display_data"
    }
   ],
   "source": [
    "# Plot the results (MSE, RMSE, MAE, and R² for each model)\n",
    "fig, ax = plt.subplots(2, 2, figsize=(15, 12))\n",
    "\n",
    "# Plot Mean Squared Error\n",
    "ax[0, 0].barh(results_df['model'], results_df['test_mse'], color='skyblue')\n",
    "ax[0, 0].set_xlabel('Mean Squared Error')\n",
    "ax[0, 0].set_title('Model Comparison - Mean Squared Error')\n",
    "\n",
    "# Plot Root Mean Squared Error\n",
    "ax[0, 1].barh(results_df['model'], results_df['test_rmse'], color='lightgreen')\n",
    "ax[0, 1].set_xlabel('Root Mean Squared Error')\n",
    "ax[0, 1].set_title('Model Comparison - Root Mean Squared Error')\n",
    "\n",
    "# Plot Mean Absolute Error\n",
    "ax[1, 0].barh(results_df['model'], results_df['test_mae'], color='lightcoral')\n",
    "ax[1, 0].set_xlabel('Mean Absolute Error')\n",
    "ax[1, 0].set_title('Model Comparison - Mean Absolute Error')\n",
    "\n",
    "# Plot R² Score\n",
    "ax[1, 1].barh(results_df['model'], results_df['test_r2'], color='orange')\n",
    "ax[1, 1].set_xlabel('R² Score')\n",
    "ax[1, 1].set_title('Model Comparison - R² Score')\n",
    "\n",
    "plt.tight_layout()\n",
    "plt.show()\n"
   ]
  },
  {
   "cell_type": "code",
   "execution_count": null,
   "metadata": {},
   "outputs": [
    {
     "name": "stdout",
     "output_type": "stream",
     "text": [
      "The best model is LinearRegression(fit_intercept=False) with an R² score of 0.8630\n"
     ]
    }
   ],
   "source": [
    "print(f\"The best model is {best_model} with an R² score of {best_score:.4f}\")"
   ]
  },
  {
   "cell_type": "code",
   "execution_count": null,
   "metadata": {},
   "outputs": [],
   "source": [
    "# Save the best model\n",
    "joblib.dump(best_model, 'banglore_home_prices_model_2.pickle')"
   ]
  },
  {
   "cell_type": "code",
   "execution_count": 7,
   "metadata": {},
   "outputs": [],
   "source": [
    "\n",
    "\"\"\"\n",
    " predict the price of a house based on its location, square footage (sqft),\n",
    " number of bathrooms (bath), and number of bedrooms (bhk)\n",
    "\"\"\"\n",
    "\n",
    "\"\"\"\n",
    "Find the Index of the Location:\n",
    "\n",
    "loc_index = np.where(X.columns=='location2')[0][0] finds the index corresponding to\n",
    "'location2' in X.columns, say it's 4.\n",
    "Initialize the Feature Array:\n",
    "\n",
    "x = np.zeros(len(X.columns)) creates an array of zeros, e.g., [0, 0, 0, 0, 0, 0, ...].\n",
    "Set the Sqft, Bath, and BHK Values:\n",
    "\n",
    "x[0] = 1200, x[1] = 2, x[2] = 3 sets the first three values in x, so x becomes [1200, 2, 3, 0, 0, 0, ...].\n",
    "Set the One-Hot Encoded Location:\n",
    "\n",
    "if loc_index >= 0: x[4] = 1 sets the value of the corresponding location feature\n",
    "(for 'location2') to 1, so x becomes [1200, 2, 3, 0, 1, 0, ...].\n",
    "Make the Prediction:\n",
    "\n",
    "The trained model lr_clf.predict([x]) is used to predict the price based on these features, and\n",
    "the predicted price is returned.\n",
    "\"\"\"\n",
    "\n",
    "\n",
    "import numpy as np\n",
    "def predict_price(location,sqft,bath,bhk):    \n",
    "    loc_index = np.where(X.columns==location)[0][0]\n",
    "\n",
    "    x = np.zeros(len(X.columns))\n",
    "    \n",
    "    x[0] = sqft\n",
    "    x[1] = bath\n",
    "    x[2] = bhk\n",
    "    \n",
    "    if loc_index >= 0:\n",
    "        # we are setting 4th index value as 1(True) means it is existing in the table if the user entered\n",
    "        # new place it will become zero.\n",
    "        x[loc_index] = 1\n",
    "\n",
    "    print(x)\n",
    "    # The model expects input as a 2D array (i.e., a list of features), which is why [x] is used.\n",
    "    # [0] will be return prediction\n",
    "    return lr_clf.predict([x])[0]"
   ]
  }
 ],
 "metadata": {
  "kernelspec": {
   "display_name": "Python 3",
   "language": "python",
   "name": "python3"
  },
  "language_info": {
   "codemirror_mode": {
    "name": "ipython",
    "version": 3
   },
   "file_extension": ".py",
   "mimetype": "text/x-python",
   "name": "python",
   "nbconvert_exporter": "python",
   "pygments_lexer": "ipython3",
   "version": "3.12.6"
  }
 },
 "nbformat": 4,
 "nbformat_minor": 2
}
